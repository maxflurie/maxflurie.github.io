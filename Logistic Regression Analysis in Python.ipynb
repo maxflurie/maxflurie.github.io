{
 "cells": [
  {
   "cell_type": "markdown",
   "id": "eff37ff7",
   "metadata": {},
   "source": [
    "# Pharma Market Trends\n",
    "\n",
    "\n",
    "## The Data\n",
    "\n",
    "**More than 100 pharmaceutical companies measured on a series of profit indicators. Also includes categorical variables, such as the stock recommendation, company location, and stock exchange.**\n",
    "\n",
    "**Market Cap** = total dollar market value of outstanding shares of stock (in billions).\n",
    "\n",
    "**Beta** = measure of stock volatility relative to the market, it is effectively a correlation coefficient between the stock and a benchmark (often S&P 500). However, beta can run above 1 if it is consistently swinging more than the market.   \n",
    "\n",
    "**PE_ratio** = a ratio (Price/per-share-earnings); A high PE_ratio means a stock has a higher price than its value (can occur for various reasons). 13-15 is considered “normal.”\n",
    "\n",
    "**ROE** = a ratio (net income/shareholder’s equity); It is the ‘Return on Equity’ designed to measure the profits of a corporation compared to the stockholder’s equity. In general, around 15 is acceptable and less than 10 is considered bad. \n",
    "\n",
    "**ROA** = a ratio (net income/total assets); It is the ‘Return on Assets’; this is another profitability metric designed to measure how effective a company is using its assets to generating earnings.  \n",
    "\n",
    "**Asset_Turnover** = a ratio (sales/average assets); The higher the better. It means they are bringing in more revenue with fewer assets.  \n",
    "\n",
    "**Leverage** = a ratio (debt/equity or assests/equity); Leverage ratio’s can come in many forms. Higher is generally worse.\n",
    "\n",
    "**Rev_Growth** = change in sales per quarter or year \n",
    "\n",
    "**Net_Profit_Margin** = a ratio (net profits/revenue); Illustrates how much revenue translated into profit. \n",
    "\n",
    "**Median_Recomendation** = recommendation across analysts (Hold=0, Sell=1)\n",
    "\n",
    "**Location** = country of origin\n",
    "\n",
    "**Exchange** = location of exchange\n",
    "\n",
    "## The Goal \n",
    "\n",
    "**We want to understand which variables are important for determining analyst recommendations. We want to then use those predictors to develop a predictive model for projections.** \n"
   ]
  },
  {
   "cell_type": "markdown",
   "id": "4c5194da",
   "metadata": {},
   "source": [
    "### Libraries"
   ]
  },
  {
   "cell_type": "code",
   "execution_count": 121,
   "id": "75bbabb2",
   "metadata": {},
   "outputs": [],
   "source": [
    "#Load Pandas in Python\n",
    "import pandas as pd\n",
    "#Load matplotlib\n",
    "import matplotlib.pyplot as plt\n",
    "#import numpy\n",
    "import numpy as np\n",
    "from sklearn import preprocessing\n",
    "from sklearn.linear_model import LogisticRegression\n",
    "from sklearn.model_selection import train_test_split\n",
    "from sklearn.feature_selection import RFE\n",
    "import seaborn as sns\n",
    "sns.set(style=\"white\")\n",
    "sns.set(style=\"whitegrid\", color_codes=True)\n",
    "import statsmodels.api as sm\n",
    "from factor_analyzer import FactorAnalyzer\n"
   ]
  },
  {
   "cell_type": "markdown",
   "id": "892f3e04",
   "metadata": {},
   "source": [
    "### The Data"
   ]
  },
  {
   "cell_type": "code",
   "execution_count": 122,
   "id": "3ae3da80",
   "metadata": {},
   "outputs": [
    {
     "data": {
      "text/html": [
       "<div>\n",
       "<style scoped>\n",
       "    .dataframe tbody tr th:only-of-type {\n",
       "        vertical-align: middle;\n",
       "    }\n",
       "\n",
       "    .dataframe tbody tr th {\n",
       "        vertical-align: top;\n",
       "    }\n",
       "\n",
       "    .dataframe thead th {\n",
       "        text-align: right;\n",
       "    }\n",
       "</style>\n",
       "<table border=\"1\" class=\"dataframe\">\n",
       "  <thead>\n",
       "    <tr style=\"text-align: right;\">\n",
       "      <th></th>\n",
       "      <th>Name</th>\n",
       "      <th>Market_Cap</th>\n",
       "      <th>Beta</th>\n",
       "      <th>PE_Ratio</th>\n",
       "      <th>ROE</th>\n",
       "      <th>ROA</th>\n",
       "      <th>Asset_Turnover</th>\n",
       "      <th>Leverage</th>\n",
       "      <th>Rev_Growth</th>\n",
       "      <th>Net_Profit_Margin</th>\n",
       "      <th>Median_Recommendation</th>\n",
       "      <th>Location</th>\n",
       "      <th>Exchange</th>\n",
       "    </tr>\n",
       "  </thead>\n",
       "  <tbody>\n",
       "    <tr>\n",
       "      <th>0</th>\n",
       "      <td>AZN</td>\n",
       "      <td>67.63</td>\n",
       "      <td>0.52</td>\n",
       "      <td>21.5</td>\n",
       "      <td>27.4</td>\n",
       "      <td>15.4</td>\n",
       "      <td>0.9</td>\n",
       "      <td>0.00</td>\n",
       "      <td>15.00</td>\n",
       "      <td>18.0</td>\n",
       "      <td>Sell</td>\n",
       "      <td>UK</td>\n",
       "      <td>NYSE</td>\n",
       "    </tr>\n",
       "    <tr>\n",
       "      <th>1</th>\n",
       "      <td>BAY</td>\n",
       "      <td>16.90</td>\n",
       "      <td>1.11</td>\n",
       "      <td>27.9</td>\n",
       "      <td>3.9</td>\n",
       "      <td>1.4</td>\n",
       "      <td>0.6</td>\n",
       "      <td>0.00</td>\n",
       "      <td>-3.17</td>\n",
       "      <td>2.6</td>\n",
       "      <td>Hold</td>\n",
       "      <td>GERMANY</td>\n",
       "      <td>NYSE</td>\n",
       "    </tr>\n",
       "    <tr>\n",
       "      <th>2</th>\n",
       "      <td>BMY</td>\n",
       "      <td>51.33</td>\n",
       "      <td>0.50</td>\n",
       "      <td>13.9</td>\n",
       "      <td>34.8</td>\n",
       "      <td>15.1</td>\n",
       "      <td>0.9</td>\n",
       "      <td>0.57</td>\n",
       "      <td>2.70</td>\n",
       "      <td>20.6</td>\n",
       "      <td>Sell</td>\n",
       "      <td>US</td>\n",
       "      <td>NYSE</td>\n",
       "    </tr>\n",
       "    <tr>\n",
       "      <th>3</th>\n",
       "      <td>ELN</td>\n",
       "      <td>0.78</td>\n",
       "      <td>1.08</td>\n",
       "      <td>3.6</td>\n",
       "      <td>15.1</td>\n",
       "      <td>5.1</td>\n",
       "      <td>0.3</td>\n",
       "      <td>1.07</td>\n",
       "      <td>34.21</td>\n",
       "      <td>13.3</td>\n",
       "      <td>Sell</td>\n",
       "      <td>IRELAND</td>\n",
       "      <td>NYSE</td>\n",
       "    </tr>\n",
       "    <tr>\n",
       "      <th>4</th>\n",
       "      <td>LLY</td>\n",
       "      <td>73.84</td>\n",
       "      <td>0.18</td>\n",
       "      <td>27.9</td>\n",
       "      <td>31.0</td>\n",
       "      <td>13.5</td>\n",
       "      <td>0.6</td>\n",
       "      <td>0.53</td>\n",
       "      <td>6.21</td>\n",
       "      <td>23.4</td>\n",
       "      <td>Hold</td>\n",
       "      <td>US</td>\n",
       "      <td>NYSE</td>\n",
       "    </tr>\n",
       "    <tr>\n",
       "      <th>5</th>\n",
       "      <td>GSK</td>\n",
       "      <td>122.11</td>\n",
       "      <td>0.35</td>\n",
       "      <td>18.0</td>\n",
       "      <td>62.9</td>\n",
       "      <td>20.3</td>\n",
       "      <td>1.0</td>\n",
       "      <td>0.34</td>\n",
       "      <td>21.87</td>\n",
       "      <td>21.1</td>\n",
       "      <td>Hold</td>\n",
       "      <td>UK</td>\n",
       "      <td>NYSE</td>\n",
       "    </tr>\n",
       "    <tr>\n",
       "      <th>6</th>\n",
       "      <td>IVX</td>\n",
       "      <td>2.60</td>\n",
       "      <td>0.65</td>\n",
       "      <td>19.9</td>\n",
       "      <td>21.4</td>\n",
       "      <td>6.8</td>\n",
       "      <td>0.6</td>\n",
       "      <td>1.45</td>\n",
       "      <td>13.99</td>\n",
       "      <td>11.0</td>\n",
       "      <td>Hold</td>\n",
       "      <td>US</td>\n",
       "      <td>AMEX</td>\n",
       "    </tr>\n",
       "    <tr>\n",
       "      <th>7</th>\n",
       "      <td>MRK</td>\n",
       "      <td>132.56</td>\n",
       "      <td>0.46</td>\n",
       "      <td>18.9</td>\n",
       "      <td>40.6</td>\n",
       "      <td>15.0</td>\n",
       "      <td>1.1</td>\n",
       "      <td>0.28</td>\n",
       "      <td>17.35</td>\n",
       "      <td>14.1</td>\n",
       "      <td>Hold</td>\n",
       "      <td>US</td>\n",
       "      <td>NYSE</td>\n",
       "    </tr>\n",
       "    <tr>\n",
       "      <th>8</th>\n",
       "      <td>NVS</td>\n",
       "      <td>96.65</td>\n",
       "      <td>0.19</td>\n",
       "      <td>21.6</td>\n",
       "      <td>17.9</td>\n",
       "      <td>11.2</td>\n",
       "      <td>0.5</td>\n",
       "      <td>0.06</td>\n",
       "      <td>-2.69</td>\n",
       "      <td>22.4</td>\n",
       "      <td>Hold</td>\n",
       "      <td>SWITZERLAND</td>\n",
       "      <td>NYSE</td>\n",
       "    </tr>\n",
       "    <tr>\n",
       "      <th>9</th>\n",
       "      <td>PHA</td>\n",
       "      <td>56.24</td>\n",
       "      <td>0.40</td>\n",
       "      <td>56.5</td>\n",
       "      <td>13.5</td>\n",
       "      <td>5.7</td>\n",
       "      <td>0.6</td>\n",
       "      <td>0.35</td>\n",
       "      <td>15.00</td>\n",
       "      <td>7.3</td>\n",
       "      <td>Hold</td>\n",
       "      <td>US</td>\n",
       "      <td>NYSE</td>\n",
       "    </tr>\n",
       "  </tbody>\n",
       "</table>\n",
       "</div>"
      ],
      "text/plain": [
       "  Name  Market_Cap  Beta  PE_Ratio   ROE   ROA  Asset_Turnover  Leverage  \\\n",
       "0  AZN       67.63  0.52      21.5  27.4  15.4             0.9      0.00   \n",
       "1  BAY       16.90  1.11      27.9   3.9   1.4             0.6      0.00   \n",
       "2  BMY       51.33  0.50      13.9  34.8  15.1             0.9      0.57   \n",
       "3  ELN        0.78  1.08       3.6  15.1   5.1             0.3      1.07   \n",
       "4  LLY       73.84  0.18      27.9  31.0  13.5             0.6      0.53   \n",
       "5  GSK      122.11  0.35      18.0  62.9  20.3             1.0      0.34   \n",
       "6  IVX        2.60  0.65      19.9  21.4   6.8             0.6      1.45   \n",
       "7  MRK      132.56  0.46      18.9  40.6  15.0             1.1      0.28   \n",
       "8  NVS       96.65  0.19      21.6  17.9  11.2             0.5      0.06   \n",
       "9  PHA       56.24  0.40      56.5  13.5   5.7             0.6      0.35   \n",
       "\n",
       "   Rev_Growth  Net_Profit_Margin Median_Recommendation     Location Exchange  \n",
       "0       15.00               18.0                  Sell           UK     NYSE  \n",
       "1       -3.17                2.6                  Hold      GERMANY     NYSE  \n",
       "2        2.70               20.6                  Sell           US     NYSE  \n",
       "3       34.21               13.3                  Sell      IRELAND     NYSE  \n",
       "4        6.21               23.4                  Hold           US     NYSE  \n",
       "5       21.87               21.1                  Hold           UK     NYSE  \n",
       "6       13.99               11.0                  Hold           US     AMEX  \n",
       "7       17.35               14.1                  Hold           US     NYSE  \n",
       "8       -2.69               22.4                  Hold  SWITZERLAND     NYSE  \n",
       "9       15.00                7.3                  Hold           US     NYSE  "
      ]
     },
     "execution_count": 122,
     "metadata": {},
     "output_type": "execute_result"
    }
   ],
   "source": [
    "pharma = pd.read_csv('pharmaMarket3.csv')\n",
    "pharma.head(10)"
   ]
  },
  {
   "cell_type": "markdown",
   "id": "be98f790",
   "metadata": {},
   "source": [
    "### Data Exploration and Visualization"
   ]
  },
  {
   "cell_type": "code",
   "execution_count": 123,
   "id": "a24345af",
   "metadata": {},
   "outputs": [
    {
     "data": {
      "text/html": [
       "<div>\n",
       "<style scoped>\n",
       "    .dataframe tbody tr th:only-of-type {\n",
       "        vertical-align: middle;\n",
       "    }\n",
       "\n",
       "    .dataframe tbody tr th {\n",
       "        vertical-align: top;\n",
       "    }\n",
       "\n",
       "    .dataframe thead th {\n",
       "        text-align: right;\n",
       "    }\n",
       "</style>\n",
       "<table border=\"1\" class=\"dataframe\">\n",
       "  <thead>\n",
       "    <tr style=\"text-align: right;\">\n",
       "      <th></th>\n",
       "      <th>Median_Recommendation</th>\n",
       "      <th>Market_Cap</th>\n",
       "      <th>Beta</th>\n",
       "      <th>PE_Ratio</th>\n",
       "      <th>ROE</th>\n",
       "      <th>ROA</th>\n",
       "      <th>Asset_Turnover</th>\n",
       "      <th>Leverage</th>\n",
       "      <th>Rev_Growth</th>\n",
       "      <th>Net_Profit_Margin</th>\n",
       "    </tr>\n",
       "  </thead>\n",
       "  <tbody>\n",
       "    <tr>\n",
       "      <th>0</th>\n",
       "      <td>Hold</td>\n",
       "      <td>66.198889</td>\n",
       "      <td>1.272778</td>\n",
       "      <td>25.519444</td>\n",
       "      <td>30.630556</td>\n",
       "      <td>11.952778</td>\n",
       "      <td>1.486111</td>\n",
       "      <td>1.233889</td>\n",
       "      <td>9.383889</td>\n",
       "      <td>16.886111</td>\n",
       "    </tr>\n",
       "    <tr>\n",
       "      <th>1</th>\n",
       "      <td>Sell</td>\n",
       "      <td>32.118750</td>\n",
       "      <td>1.335000</td>\n",
       "      <td>15.156250</td>\n",
       "      <td>22.837500</td>\n",
       "      <td>11.437500</td>\n",
       "      <td>1.403125</td>\n",
       "      <td>1.205000</td>\n",
       "      <td>21.141250</td>\n",
       "      <td>17.650000</td>\n",
       "    </tr>\n",
       "  </tbody>\n",
       "</table>\n",
       "</div>"
      ],
      "text/plain": [
       "  Median_Recommendation  Market_Cap      Beta   PE_Ratio        ROE  \\\n",
       "0                  Hold   66.198889  1.272778  25.519444  30.630556   \n",
       "1                  Sell   32.118750  1.335000  15.156250  22.837500   \n",
       "\n",
       "         ROA  Asset_Turnover  Leverage  Rev_Growth  Net_Profit_Margin  \n",
       "0  11.952778        1.486111  1.233889    9.383889          16.886111  \n",
       "1  11.437500        1.403125  1.205000   21.141250          17.650000  "
      ]
     },
     "execution_count": 123,
     "metadata": {},
     "output_type": "execute_result"
    }
   ],
   "source": [
    "pharma2 = pharma.groupby(['Median_Recommendation']).mean()\n",
    "pharma2.reset_index(inplace=True)\n",
    "pharma2"
   ]
  },
  {
   "cell_type": "markdown",
   "id": "be4a98a2",
   "metadata": {},
   "source": [
    "**Percentages of Recomendations** "
   ]
  },
  {
   "cell_type": "code",
   "execution_count": 126,
   "id": "0f540eb5",
   "metadata": {},
   "outputs": [
    {
     "data": {
      "image/png": "[encoded data removed]",
      "text/plain": [
       "<Figure size 432x288 with 1 Axes>"
      ]
     },
     "metadata": {},
     "output_type": "display_data"
    }
   ],
   "source": [
    "plt.style.use('ggplot') # add theme template\n",
    "buy  = pharma.loc[pharma['Median_Recommendation']=='Buy'].count()[0] #create vectors for plot with counts\n",
    "sell = pharma.loc[pharma['Median_Recommendation']=='Sell'].count()[0]\n",
    "hold = pharma.loc[pharma['Median_Recommendation']=='Hold'].count()[0]\n",
    "\n",
    "recs = [buy, sell, hold]\n",
    "labels  = ['Buy','Sell','Hold']\n",
    "explode = [.1,.1,.1]\n",
    "plt.title('Recommendation Distribution')\n",
    "plt.pie(recs, labels=labels, autopct='%.2f%%', pctdistance=0.8, explode=explode)\n",
    "\n",
    "plt.show()"
   ]
  },
  {
   "cell_type": "markdown",
   "id": "5b4db365",
   "metadata": {},
   "source": [
    "Analyst tend to recommend holding stocks more than selling (69.2% vs. 30.8%). "
   ]
  },
  {
   "cell_type": "code",
   "execution_count": 125,
   "id": "9cd41ee2",
   "metadata": {},
   "outputs": [
    {
     "data": {
      "image/png": "[encoded data removed]",
      "text/plain": [
       "<Figure size 432x288 with 1 Axes>"
      ]
     },
     "metadata": {},
     "output_type": "display_data"
    }
   ],
   "source": [
    "plt.style.use('ggplot')\n",
    "pharma2.plot.bar(x=\"Median_Recommendation\", y=\"Market_Cap\", rot=70, color=['red', 'purple'] , title=\"Recommendation by Cap\");\n",
    "plt.yticks([20,30,40,50,60,70])\n",
    "plt.ylabel('Market Cap (Billions)')\n",
    "plt.xlabel('Median Recommendation')\n",
    "plt.legend().remove()\n",
    "plt.show()"
   ]
  },
  {
   "cell_type": "markdown",
   "id": "bcc6e01e",
   "metadata": {},
   "source": [
    "Higher market caps seem to result in hold recommendations for stocks.  "
   ]
  },
  {
   "cell_type": "code",
   "execution_count": 127,
   "id": "71b81460",
   "metadata": {},
   "outputs": [
    {
     "data": {
      "image/png": "[encoded data removed]",
      "text/plain": [
       "<Figure size 432x288 with 1 Axes>"
      ]
     },
     "metadata": {},
     "output_type": "display_data"
    }
   ],
   "source": [
    "plt.style.use('ggplot')\n",
    "pharma2.plot.bar(x=\"Median_Recommendation\", y=\"Rev_Growth\", rot=70, color=['red', 'purple'] , title=\"Recommendation by Growth\");\n",
    "plt.ylabel('Revenue Growth (Billions)')\n",
    "plt.xlabel('Median Recommendation')\n",
    "plt.legend().remove()\n",
    "plt.show()"
   ]
  },
  {
   "cell_type": "markdown",
   "id": "1d7b4b34",
   "metadata": {},
   "source": [
    "Higher revenue growth results in sell recommendations. "
   ]
  },
  {
   "cell_type": "code",
   "execution_count": 128,
   "id": "5db24b8a",
   "metadata": {},
   "outputs": [],
   "source": [
    "from sklearn import preprocessing\n",
    "from sklearn.linear_model import LogisticRegression\n",
    "from sklearn.model_selection import train_test_split\n",
    "from sklearn.feature_selection import RFE\n",
    "import seaborn as sns\n",
    "sns.set(style=\"white\")\n",
    "sns.set(style=\"whitegrid\", color_codes=True)"
   ]
  },
  {
   "cell_type": "markdown",
   "id": "13882e2a",
   "metadata": {},
   "source": [
    "### Clean data for Logistic Regression"
   ]
  },
  {
   "cell_type": "code",
   "execution_count": 144,
   "id": "6e54b8c0",
   "metadata": {},
   "outputs": [
    {
     "data": {
      "text/html": [
       "<div>\n",
       "<style scoped>\n",
       "    .dataframe tbody tr th:only-of-type {\n",
       "        vertical-align: middle;\n",
       "    }\n",
       "\n",
       "    .dataframe tbody tr th {\n",
       "        vertical-align: top;\n",
       "    }\n",
       "\n",
       "    .dataframe thead th {\n",
       "        text-align: right;\n",
       "    }\n",
       "</style>\n",
       "<table border=\"1\" class=\"dataframe\">\n",
       "  <thead>\n",
       "    <tr style=\"text-align: right;\">\n",
       "      <th></th>\n",
       "      <th>Name</th>\n",
       "      <th>Market_Cap</th>\n",
       "      <th>Beta</th>\n",
       "      <th>PE_Ratio</th>\n",
       "      <th>ROE</th>\n",
       "      <th>ROA</th>\n",
       "      <th>Asset_Turnover</th>\n",
       "      <th>Leverage</th>\n",
       "      <th>Rev_Growth</th>\n",
       "      <th>Net_Profit_Margin</th>\n",
       "      <th>Median_Recommendation</th>\n",
       "    </tr>\n",
       "  </thead>\n",
       "  <tbody>\n",
       "    <tr>\n",
       "      <th>0</th>\n",
       "      <td>AZN</td>\n",
       "      <td>67.63</td>\n",
       "      <td>0.52</td>\n",
       "      <td>21.5</td>\n",
       "      <td>27.4</td>\n",
       "      <td>15.4</td>\n",
       "      <td>0.9</td>\n",
       "      <td>0.00</td>\n",
       "      <td>15.00</td>\n",
       "      <td>18.0</td>\n",
       "      <td>1</td>\n",
       "    </tr>\n",
       "    <tr>\n",
       "      <th>1</th>\n",
       "      <td>BAY</td>\n",
       "      <td>16.90</td>\n",
       "      <td>1.11</td>\n",
       "      <td>27.9</td>\n",
       "      <td>3.9</td>\n",
       "      <td>1.4</td>\n",
       "      <td>0.6</td>\n",
       "      <td>0.00</td>\n",
       "      <td>-3.17</td>\n",
       "      <td>2.6</td>\n",
       "      <td>0</td>\n",
       "    </tr>\n",
       "    <tr>\n",
       "      <th>2</th>\n",
       "      <td>BMY</td>\n",
       "      <td>51.33</td>\n",
       "      <td>0.50</td>\n",
       "      <td>13.9</td>\n",
       "      <td>34.8</td>\n",
       "      <td>15.1</td>\n",
       "      <td>0.9</td>\n",
       "      <td>0.57</td>\n",
       "      <td>2.70</td>\n",
       "      <td>20.6</td>\n",
       "      <td>1</td>\n",
       "    </tr>\n",
       "    <tr>\n",
       "      <th>3</th>\n",
       "      <td>ELN</td>\n",
       "      <td>0.78</td>\n",
       "      <td>1.08</td>\n",
       "      <td>3.6</td>\n",
       "      <td>15.1</td>\n",
       "      <td>5.1</td>\n",
       "      <td>0.3</td>\n",
       "      <td>1.07</td>\n",
       "      <td>34.21</td>\n",
       "      <td>13.3</td>\n",
       "      <td>1</td>\n",
       "    </tr>\n",
       "    <tr>\n",
       "      <th>4</th>\n",
       "      <td>LLY</td>\n",
       "      <td>73.84</td>\n",
       "      <td>0.18</td>\n",
       "      <td>27.9</td>\n",
       "      <td>31.0</td>\n",
       "      <td>13.5</td>\n",
       "      <td>0.6</td>\n",
       "      <td>0.53</td>\n",
       "      <td>6.21</td>\n",
       "      <td>23.4</td>\n",
       "      <td>0</td>\n",
       "    </tr>\n",
       "    <tr>\n",
       "      <th>...</th>\n",
       "      <td>...</td>\n",
       "      <td>...</td>\n",
       "      <td>...</td>\n",
       "      <td>...</td>\n",
       "      <td>...</td>\n",
       "      <td>...</td>\n",
       "      <td>...</td>\n",
       "      <td>...</td>\n",
       "      <td>...</td>\n",
       "      <td>...</td>\n",
       "      <td>...</td>\n",
       "    </tr>\n",
       "    <tr>\n",
       "      <th>99</th>\n",
       "      <td>ISY</td>\n",
       "      <td>102.65</td>\n",
       "      <td>6.19</td>\n",
       "      <td>27.6</td>\n",
       "      <td>23.9</td>\n",
       "      <td>17.2</td>\n",
       "      <td>6.5</td>\n",
       "      <td>6.06</td>\n",
       "      <td>3.31</td>\n",
       "      <td>28.4</td>\n",
       "      <td>0</td>\n",
       "    </tr>\n",
       "    <tr>\n",
       "      <th>100</th>\n",
       "      <td>UHZ</td>\n",
       "      <td>62.24</td>\n",
       "      <td>6.40</td>\n",
       "      <td>62.5</td>\n",
       "      <td>19.5</td>\n",
       "      <td>11.7</td>\n",
       "      <td>6.6</td>\n",
       "      <td>6.35</td>\n",
       "      <td>21.00</td>\n",
       "      <td>13.3</td>\n",
       "      <td>0</td>\n",
       "    </tr>\n",
       "    <tr>\n",
       "      <th>101</th>\n",
       "      <td>ZHV</td>\n",
       "      <td>40.10</td>\n",
       "      <td>6.51</td>\n",
       "      <td>24.9</td>\n",
       "      <td>28.6</td>\n",
       "      <td>19.3</td>\n",
       "      <td>6.8</td>\n",
       "      <td>6.00</td>\n",
       "      <td>14.56</td>\n",
       "      <td>23.6</td>\n",
       "      <td>0</td>\n",
       "    </tr>\n",
       "    <tr>\n",
       "      <th>102</th>\n",
       "      <td>XBO</td>\n",
       "      <td>9.26</td>\n",
       "      <td>6.24</td>\n",
       "      <td>24.4</td>\n",
       "      <td>16.2</td>\n",
       "      <td>12.8</td>\n",
       "      <td>6.5</td>\n",
       "      <td>6.20</td>\n",
       "      <td>35.18</td>\n",
       "      <td>21.1</td>\n",
       "      <td>1</td>\n",
       "    </tr>\n",
       "    <tr>\n",
       "      <th>103</th>\n",
       "      <td>IIH</td>\n",
       "      <td>54.19</td>\n",
       "      <td>6.63</td>\n",
       "      <td>19.1</td>\n",
       "      <td>60.9</td>\n",
       "      <td>19.4</td>\n",
       "      <td>6.6</td>\n",
       "      <td>7.12</td>\n",
       "      <td>6.36</td>\n",
       "      <td>31.5</td>\n",
       "      <td>0</td>\n",
       "    </tr>\n",
       "  </tbody>\n",
       "</table>\n",
       "<p>104 rows × 11 columns</p>\n",
       "</div>"
      ],
      "text/plain": [
       "    Name  Market_Cap  Beta  PE_Ratio   ROE   ROA  Asset_Turnover  Leverage  \\\n",
       "0    AZN       67.63  0.52      21.5  27.4  15.4             0.9      0.00   \n",
       "1    BAY       16.90  1.11      27.9   3.9   1.4             0.6      0.00   \n",
       "2    BMY       51.33  0.50      13.9  34.8  15.1             0.9      0.57   \n",
       "3    ELN        0.78  1.08       3.6  15.1   5.1             0.3      1.07   \n",
       "4    LLY       73.84  0.18      27.9  31.0  13.5             0.6      0.53   \n",
       "..   ...         ...   ...       ...   ...   ...             ...       ...   \n",
       "99   ISY      102.65  6.19      27.6  23.9  17.2             6.5      6.06   \n",
       "100  UHZ       62.24  6.40      62.5  19.5  11.7             6.6      6.35   \n",
       "101  ZHV       40.10  6.51      24.9  28.6  19.3             6.8      6.00   \n",
       "102  XBO        9.26  6.24      24.4  16.2  12.8             6.5      6.20   \n",
       "103  IIH       54.19  6.63      19.1  60.9  19.4             6.6      7.12   \n",
       "\n",
       "     Rev_Growth  Net_Profit_Margin  Median_Recommendation  \n",
       "0         15.00               18.0                      1  \n",
       "1         -3.17                2.6                      0  \n",
       "2          2.70               20.6                      1  \n",
       "3         34.21               13.3                      1  \n",
       "4          6.21               23.4                      0  \n",
       "..          ...                ...                    ...  \n",
       "99         3.31               28.4                      0  \n",
       "100       21.00               13.3                      0  \n",
       "101       14.56               23.6                      0  \n",
       "102       35.18               21.1                      1  \n",
       "103        6.36               31.5                      0  \n",
       "\n",
       "[104 rows x 11 columns]"
      ]
     },
     "execution_count": 144,
     "metadata": {},
     "output_type": "execute_result"
    }
   ],
   "source": [
    "##Keep only variables of interest\n",
    "data_final = pd.read_csv('pharmaMarket3.csv') # import\n",
    "data_final = data_final.iloc[0:110,0:11] #remove location, stock exchange\n",
    "data_final.loc[data_final['Median_Recommendation']=='Sell', 'Median_Recommendation']='1' #change for coding scheme\n",
    "data_final.loc[data_final['Median_Recommendation']=='Hold', 'Median_Recommendation']='0' #change for coding scheme\n",
    "data_final[\"Median_Recommendation\"] = data_final[\"Median_Recommendation\"].astype(str).astype(int) #make new coding variable an int64\n",
    "data_final\n",
    "\n",
    "#data_final.dtypes"
   ]
  },
  {
   "cell_type": "markdown",
   "id": "c6ee73d0",
   "metadata": {},
   "source": [
    "### Run Logistic Regression"
   ]
  },
  {
   "cell_type": "code",
   "execution_count": 145,
   "id": "983bd211",
   "metadata": {},
   "outputs": [
    {
     "name": "stdout",
     "output_type": "stream",
     "text": [
      "Optimization terminated successfully.\n",
      "         Current function value: 0.381412\n",
      "         Iterations 8\n",
      "                             Logit Regression Results                            \n",
      "=================================================================================\n",
      "Dep. Variable:     Median_Recommendation   No. Observations:                  104\n",
      "Model:                             Logit   Df Residuals:                       96\n",
      "Method:                              MLE   Df Model:                            7\n",
      "Date:                   Thu, 20 May 2021   Pseudo R-squ.:                  0.3821\n",
      "Time:                           13:14:26   Log-Likelihood:                -39.667\n",
      "converged:                          True   LL-Null:                       -64.193\n",
      "Covariance Type:               nonrobust   LLR p-value:                 2.216e-08\n",
      "=====================================================================================\n",
      "                        coef    std err          z      P>|z|      [0.025      0.975]\n",
      "-------------------------------------------------------------------------------------\n",
      "Market_Cap           -0.0471      0.017     -2.769      0.006      -0.080      -0.014\n",
      "Beta                 -0.4593      1.237     -0.371      0.710      -2.884       1.965\n",
      "ROE                  -0.1331      0.093     -1.424      0.154      -0.316       0.050\n",
      "ROA                   0.5554      0.351      1.581      0.114      -0.133       1.244\n",
      "Asset_Turnover        0.0730      2.061      0.035      0.972      -3.967       4.113\n",
      "Leverage             -0.0807      1.124     -0.072      0.943      -2.284       2.123\n",
      "Rev_Growth            0.0684      0.031      2.189      0.029       0.007       0.130\n",
      "Net_Profit_Margin    -0.1015      0.131     -0.778      0.437      -0.357       0.154\n",
      "=====================================================================================\n"
     ]
    }
   ],
   "source": [
    "Xtrain = data_final[['Market_Cap','Beta','ROE', 'ROA', 'Asset_Turnover','Leverage','Rev_Growth', 'Net_Profit_Margin']] # no PE_Ratio\n",
    "ytrain = data_final[['Median_Recommendation']]\n",
    "\n",
    "\n",
    "import statsmodels.api as sm\n",
    "log_reg = sm.Logit(ytrain, Xtrain).fit()\n",
    "print(log_reg.summary())\n",
    "\n",
    "#This model is second attempt:\n",
    "##PE_Ratio is removed after leave-one-out approach, model was singular with it included  "
   ]
  },
  {
   "cell_type": "markdown",
   "id": "51e57791",
   "metadata": {},
   "source": [
    "Model fit isn't bad for size of dataset, but only 'Market Cap' is significant predictor. Run a factor analysis to explore.  "
   ]
  },
  {
   "cell_type": "markdown",
   "id": "8b2384ce",
   "metadata": {},
   "source": [
    "### Explore Correlated Variables"
   ]
  },
  {
   "cell_type": "code",
   "execution_count": 134,
   "id": "74a91b56",
   "metadata": {},
   "outputs": [
    {
     "data": {
      "image/png": "[encoded data removed]",
      "text/plain": [
       "<Figure size 432x288 with 2 Axes>"
      ]
     },
     "metadata": {},
     "output_type": "display_data"
    }
   ],
   "source": [
    "# Check for correlations \n",
    "data_corr = Xtrain.iloc[0:110,0:10] #specify which to variabls to include \n",
    "sns.heatmap(data_corr.corr(),annot=True) #add correlation coefficient to plot\n",
    "plt.show()"
   ]
  },
  {
   "cell_type": "markdown",
   "id": "095878dc",
   "metadata": {},
   "source": [
    "There are high correlations between some variables (e.g., Beta, Leverage, Asset Turnover)"
   ]
  },
  {
   "cell_type": "markdown",
   "id": "e70dba07",
   "metadata": {},
   "source": [
    "## Factor Analysis"
   ]
  },
  {
   "cell_type": "code",
   "execution_count": 59,
   "id": "c0d20a14",
   "metadata": {},
   "outputs": [
    {
     "data": {
      "text/plain": [
       "(1202.1502233936399, 9.708657136477492e-236)"
      ]
     },
     "execution_count": 59,
     "metadata": {},
     "output_type": "execute_result"
    }
   ],
   "source": [
    "#Barlett's Test of Sphericity: evaluates whether or not the observed variables intercorrelate. \n",
    "#Significant p-value means factor analysis is appropriate \n",
    "from factor_analyzer.factor_analyzer import calculate_bartlett_sphericity\n",
    "chi_square_value,p_value=calculate_bartlett_sphericity(Xtrain)\n",
    "chi_square_value, p_value\n",
    "\n"
   ]
  },
  {
   "cell_type": "code",
   "execution_count": 60,
   "id": "5e97abf5",
   "metadata": {},
   "outputs": [
    {
     "data": {
      "image/png": "[encoded data removed]",
      "text/plain": [
       "<Figure size 432x288 with 1 Axes>"
      ]
     },
     "metadata": {},
     "output_type": "display_data"
    }
   ],
   "source": [
    "# Create factor analysis object to run factor analysis\n",
    "fa = FactorAnalyzer()\n",
    "fa.fit(Xtrain)\n",
    "ev, v = fa.get_eigenvalues()\n",
    "ev\n",
    "\n",
    "#plot Eigen by Factor\n",
    "plt.scatter(range(1,Xtrain.shape[1]+1),ev)\n",
    "plt.plot(range(1,Xtrain.shape[1]+1),ev)\n",
    "plt.title('Scree Plot')\n",
    "plt.xlabel('Factors')\n",
    "plt.ylabel('Eigenvalue')\n",
    "plt.grid()\n",
    "plt.show()"
   ]
  },
  {
   "cell_type": "markdown",
   "id": "a02e3062",
   "metadata": {},
   "source": [
    "2-3 factors are ideal. We want eigen values >1"
   ]
  },
  {
   "cell_type": "code",
   "execution_count": 136,
   "id": "ba588e17",
   "metadata": {},
   "outputs": [
    {
     "data": {
      "text/html": [
       "<div>\n",
       "<style scoped>\n",
       "    .dataframe tbody tr th:only-of-type {\n",
       "        vertical-align: middle;\n",
       "    }\n",
       "\n",
       "    .dataframe tbody tr th {\n",
       "        vertical-align: top;\n",
       "    }\n",
       "\n",
       "    .dataframe thead th {\n",
       "        text-align: right;\n",
       "    }\n",
       "</style>\n",
       "<table border=\"1\" class=\"dataframe\">\n",
       "  <thead>\n",
       "    <tr style=\"text-align: right;\">\n",
       "      <th></th>\n",
       "      <th>Factor1</th>\n",
       "      <th>Factor2</th>\n",
       "      <th>Factor2</th>\n",
       "    </tr>\n",
       "  </thead>\n",
       "  <tbody>\n",
       "    <tr>\n",
       "      <th>Market_Cap</th>\n",
       "      <td>-0.089635</td>\n",
       "      <td>0.481350</td>\n",
       "      <td>0.871589</td>\n",
       "    </tr>\n",
       "    <tr>\n",
       "      <th>Beta</th>\n",
       "      <td>0.992937</td>\n",
       "      <td>0.093734</td>\n",
       "      <td>0.011997</td>\n",
       "    </tr>\n",
       "    <tr>\n",
       "      <th>ROE</th>\n",
       "      <td>-0.000136</td>\n",
       "      <td>0.806216</td>\n",
       "      <td>0.264691</td>\n",
       "    </tr>\n",
       "    <tr>\n",
       "      <th>ROA</th>\n",
       "      <td>0.184754</td>\n",
       "      <td>0.916314</td>\n",
       "      <td>0.317826</td>\n",
       "    </tr>\n",
       "    <tr>\n",
       "      <th>Asset_Turnover</th>\n",
       "      <td>0.965289</td>\n",
       "      <td>0.210604</td>\n",
       "      <td>0.118589</td>\n",
       "    </tr>\n",
       "    <tr>\n",
       "      <th>Leverage</th>\n",
       "      <td>0.960140</td>\n",
       "      <td>0.199554</td>\n",
       "      <td>-0.069745</td>\n",
       "    </tr>\n",
       "    <tr>\n",
       "      <th>Rev_Growth</th>\n",
       "      <td>0.200372</td>\n",
       "      <td>-0.045748</td>\n",
       "      <td>-0.104788</td>\n",
       "    </tr>\n",
       "    <tr>\n",
       "      <th>Net_Profit_Margin</th>\n",
       "      <td>0.130627</td>\n",
       "      <td>0.821950</td>\n",
       "      <td>0.044824</td>\n",
       "    </tr>\n",
       "  </tbody>\n",
       "</table>\n",
       "</div>"
      ],
      "text/plain": [
       "                    Factor1   Factor2   Factor2\n",
       "Market_Cap        -0.089635  0.481350  0.871589\n",
       "Beta               0.992937  0.093734  0.011997\n",
       "ROE               -0.000136  0.806216  0.264691\n",
       "ROA                0.184754  0.916314  0.317826\n",
       "Asset_Turnover     0.965289  0.210604  0.118589\n",
       "Leverage           0.960140  0.199554 -0.069745\n",
       "Rev_Growth         0.200372 -0.045748 -0.104788\n",
       "Net_Profit_Margin  0.130627  0.821950  0.044824"
      ]
     },
     "execution_count": 136,
     "metadata": {},
     "output_type": "execute_result"
    }
   ],
   "source": [
    "#Determine factor loadings\n",
    "fa = FactorAnalyzer(3, rotation=\"varimax\") #use varimax rotation\n",
    "fa.fit(Xtrain) \n",
    "loadings = fa.loadings_\n",
    "\n",
    "#plot factors\n",
    "loadingsdf = pd.DataFrame(data=loadings, index=['Market_Cap','Beta','ROE', 'ROA', 'Asset_Turnover','Leverage','Rev_Growth', 'Net_Profit_Margin'], columns=['Factor1', 'Factor2','Factor2' ])\n",
    "loadingsdf"
   ]
  },
  {
   "cell_type": "markdown",
   "id": "1f03cfbf",
   "metadata": {},
   "source": [
    "**Factor 1:** Beta, Asset_Turnover, Leverage\n",
    "\n",
    "**Factor 2:** ROE, ROA, Net_Profit_Margin\n",
    "\n",
    "**Factor 3:** Market_Cap\n",
    "\n",
    "Opting for two factor loading (i.e., Factor 3 only loaded on Market Cap) "
   ]
  },
  {
   "cell_type": "code",
   "execution_count": 137,
   "id": "2e57be2e",
   "metadata": {},
   "outputs": [
    {
     "data": {
      "text/html": [
       "<div>\n",
       "<style scoped>\n",
       "    .dataframe tbody tr th:only-of-type {\n",
       "        vertical-align: middle;\n",
       "    }\n",
       "\n",
       "    .dataframe tbody tr th {\n",
       "        vertical-align: top;\n",
       "    }\n",
       "\n",
       "    .dataframe thead th {\n",
       "        text-align: right;\n",
       "    }\n",
       "</style>\n",
       "<table border=\"1\" class=\"dataframe\">\n",
       "  <thead>\n",
       "    <tr style=\"text-align: right;\">\n",
       "      <th></th>\n",
       "      <th>1</th>\n",
       "      <th>2</th>\n",
       "      <th>3</th>\n",
       "    </tr>\n",
       "  </thead>\n",
       "  <tbody>\n",
       "    <tr>\n",
       "      <th>Loadings</th>\n",
       "      <td>2.938957</td>\n",
       "      <td>2.491971</td>\n",
       "      <td>0.962803</td>\n",
       "    </tr>\n",
       "    <tr>\n",
       "      <th>Prop Var</th>\n",
       "      <td>0.367370</td>\n",
       "      <td>0.311496</td>\n",
       "      <td>0.120350</td>\n",
       "    </tr>\n",
       "    <tr>\n",
       "      <th>Cum Var</th>\n",
       "      <td>0.367370</td>\n",
       "      <td>0.678866</td>\n",
       "      <td>0.799216</td>\n",
       "    </tr>\n",
       "  </tbody>\n",
       "</table>\n",
       "</div>"
      ],
      "text/plain": [
       "                 1         2         3\n",
       "Loadings  2.938957  2.491971  0.962803\n",
       "Prop Var  0.367370  0.311496  0.120350\n",
       "Cum Var   0.367370  0.678866  0.799216"
      ]
     },
     "execution_count": 137,
     "metadata": {},
     "output_type": "execute_result"
    }
   ],
   "source": [
    "# Get variance of each factors\n",
    "fa.get_factor_variance()\n",
    "variances = fa.get_factor_variance()\n",
    "\n",
    "#Plot factor variance\n",
    "variancesdf = pd.DataFrame(data=variances, index=['Loadings','Prop Var','Cum Var'], columns=['1', '2', '3' ])\n",
    "variancesdf"
   ]
  },
  {
   "cell_type": "markdown",
   "id": "b22b5fd6",
   "metadata": {},
   "source": [
    "**79.9% of variance explained by factors**"
   ]
  },
  {
   "cell_type": "markdown",
   "id": "be4df760",
   "metadata": {},
   "source": [
    "### Run Logistic Regression with Factors loadings "
   ]
  },
  {
   "cell_type": "code",
   "execution_count": 146,
   "id": "f7e40d10",
   "metadata": {},
   "outputs": [
    {
     "name": "stderr",
     "output_type": "stream",
     "text": [
      "<ipython-input-146-30c41e372046>:4: SettingWithCopyWarning: \n",
      "A value is trying to be set on a copy of a slice from a DataFrame.\n",
      "Try using .loc[row_indexer,col_indexer] = value instead\n",
      "\n",
      "See the caveats in the documentation: https://pandas.pydata.org/pandas-docs/stable/user_guide/indexing.html#returning-a-view-versus-a-copy\n",
      "  Xtrain2[\"Risk\"] = (Xtrain2['Beta']+Xtrain2['Leverage']+Xtrain2['Asset_Turnover'])\n"
     ]
    },
    {
     "data": {
      "text/html": [
       "<div>\n",
       "<style scoped>\n",
       "    .dataframe tbody tr th:only-of-type {\n",
       "        vertical-align: middle;\n",
       "    }\n",
       "\n",
       "    .dataframe tbody tr th {\n",
       "        vertical-align: top;\n",
       "    }\n",
       "\n",
       "    .dataframe thead th {\n",
       "        text-align: right;\n",
       "    }\n",
       "</style>\n",
       "<table border=\"1\" class=\"dataframe\">\n",
       "  <thead>\n",
       "    <tr style=\"text-align: right;\">\n",
       "      <th></th>\n",
       "      <th>Market_Cap</th>\n",
       "      <th>ROE</th>\n",
       "      <th>ROA</th>\n",
       "      <th>Rev_Growth</th>\n",
       "      <th>Net_Profit_Margin</th>\n",
       "      <th>Risk</th>\n",
       "    </tr>\n",
       "  </thead>\n",
       "  <tbody>\n",
       "    <tr>\n",
       "      <th>0</th>\n",
       "      <td>67.63</td>\n",
       "      <td>27.4</td>\n",
       "      <td>15.4</td>\n",
       "      <td>15.00</td>\n",
       "      <td>18.0</td>\n",
       "      <td>1.42</td>\n",
       "    </tr>\n",
       "    <tr>\n",
       "      <th>1</th>\n",
       "      <td>16.90</td>\n",
       "      <td>3.9</td>\n",
       "      <td>1.4</td>\n",
       "      <td>-3.17</td>\n",
       "      <td>2.6</td>\n",
       "      <td>1.71</td>\n",
       "    </tr>\n",
       "    <tr>\n",
       "      <th>2</th>\n",
       "      <td>51.33</td>\n",
       "      <td>34.8</td>\n",
       "      <td>15.1</td>\n",
       "      <td>2.70</td>\n",
       "      <td>20.6</td>\n",
       "      <td>1.97</td>\n",
       "    </tr>\n",
       "    <tr>\n",
       "      <th>3</th>\n",
       "      <td>0.78</td>\n",
       "      <td>15.1</td>\n",
       "      <td>5.1</td>\n",
       "      <td>34.21</td>\n",
       "      <td>13.3</td>\n",
       "      <td>2.45</td>\n",
       "    </tr>\n",
       "    <tr>\n",
       "      <th>4</th>\n",
       "      <td>73.84</td>\n",
       "      <td>31.0</td>\n",
       "      <td>13.5</td>\n",
       "      <td>6.21</td>\n",
       "      <td>23.4</td>\n",
       "      <td>1.31</td>\n",
       "    </tr>\n",
       "    <tr>\n",
       "      <th>...</th>\n",
       "      <td>...</td>\n",
       "      <td>...</td>\n",
       "      <td>...</td>\n",
       "      <td>...</td>\n",
       "      <td>...</td>\n",
       "      <td>...</td>\n",
       "    </tr>\n",
       "    <tr>\n",
       "      <th>99</th>\n",
       "      <td>102.65</td>\n",
       "      <td>23.9</td>\n",
       "      <td>17.2</td>\n",
       "      <td>3.31</td>\n",
       "      <td>28.4</td>\n",
       "      <td>18.75</td>\n",
       "    </tr>\n",
       "    <tr>\n",
       "      <th>100</th>\n",
       "      <td>62.24</td>\n",
       "      <td>19.5</td>\n",
       "      <td>11.7</td>\n",
       "      <td>21.00</td>\n",
       "      <td>13.3</td>\n",
       "      <td>19.35</td>\n",
       "    </tr>\n",
       "    <tr>\n",
       "      <th>101</th>\n",
       "      <td>40.10</td>\n",
       "      <td>28.6</td>\n",
       "      <td>19.3</td>\n",
       "      <td>14.56</td>\n",
       "      <td>23.6</td>\n",
       "      <td>19.31</td>\n",
       "    </tr>\n",
       "    <tr>\n",
       "      <th>102</th>\n",
       "      <td>9.26</td>\n",
       "      <td>16.2</td>\n",
       "      <td>12.8</td>\n",
       "      <td>35.18</td>\n",
       "      <td>21.1</td>\n",
       "      <td>18.94</td>\n",
       "    </tr>\n",
       "    <tr>\n",
       "      <th>103</th>\n",
       "      <td>54.19</td>\n",
       "      <td>60.9</td>\n",
       "      <td>19.4</td>\n",
       "      <td>6.36</td>\n",
       "      <td>31.5</td>\n",
       "      <td>20.35</td>\n",
       "    </tr>\n",
       "  </tbody>\n",
       "</table>\n",
       "<p>104 rows × 6 columns</p>\n",
       "</div>"
      ],
      "text/plain": [
       "     Market_Cap   ROE   ROA  Rev_Growth  Net_Profit_Margin   Risk\n",
       "0         67.63  27.4  15.4       15.00               18.0   1.42\n",
       "1         16.90   3.9   1.4       -3.17                2.6   1.71\n",
       "2         51.33  34.8  15.1        2.70               20.6   1.97\n",
       "3          0.78  15.1   5.1       34.21               13.3   2.45\n",
       "4         73.84  31.0  13.5        6.21               23.4   1.31\n",
       "..          ...   ...   ...         ...                ...    ...\n",
       "99       102.65  23.9  17.2        3.31               28.4  18.75\n",
       "100       62.24  19.5  11.7       21.00               13.3  19.35\n",
       "101       40.10  28.6  19.3       14.56               23.6  19.31\n",
       "102        9.26  16.2  12.8       35.18               21.1  18.94\n",
       "103       54.19  60.9  19.4        6.36               31.5  20.35\n",
       "\n",
       "[104 rows x 6 columns]"
      ]
     },
     "execution_count": 146,
     "metadata": {},
     "output_type": "execute_result"
    }
   ],
   "source": [
    "#Make new df\n",
    "Xtrain2 = Xtrain\n",
    "#First combine variables into two latent factors\n",
    "Xtrain2[\"Risk\"] = (Xtrain2['Beta']+Xtrain2['Leverage']+Xtrain2['Asset_Turnover'])\n",
    "Xtrain3 = Xtrain2.drop(columns=['Beta', 'Leverage','Asset_Turnover'])\n",
    "Xtrain3\n",
    "##This model is second attempt: First attempt did not improve model fit with inclusion of two Factors. \n",
    "##This model includes only Factor 1"
   ]
  },
  {
   "cell_type": "code",
   "execution_count": 147,
   "id": "78daae99",
   "metadata": {},
   "outputs": [
    {
     "name": "stdout",
     "output_type": "stream",
     "text": [
      "Optimization terminated successfully.\n",
      "         Current function value: 0.381821\n",
      "         Iterations 7\n",
      "                             Logit Regression Results                            \n",
      "=================================================================================\n",
      "Dep. Variable:     Median_Recommendation   No. Observations:                  104\n",
      "Model:                             Logit   Df Residuals:                       98\n",
      "Method:                              MLE   Df Model:                            5\n",
      "Date:                   Thu, 20 May 2021   Pseudo R-squ.:                  0.3814\n",
      "Time:                           13:14:37   Log-Likelihood:                -39.709\n",
      "converged:                          True   LL-Null:                       -64.193\n",
      "Covariance Type:               nonrobust   LLR p-value:                 2.253e-09\n",
      "=====================================================================================\n",
      "                        coef    std err          z      P>|z|      [0.025      0.975]\n",
      "-------------------------------------------------------------------------------------\n",
      "Market_Cap           -0.0472      0.013     -3.521      0.000      -0.073      -0.021\n",
      "ROE                  -0.1317      0.052     -2.517      0.012      -0.234      -0.029\n",
      "ROA                   0.5691      0.177      3.224      0.001       0.223       0.915\n",
      "Rev_Growth            0.0661      0.027      2.450      0.014       0.013       0.119\n",
      "Net_Profit_Margin    -0.1081      0.101     -1.067      0.286      -0.307       0.090\n",
      "Risk                 -0.1596      0.059     -2.684      0.007      -0.276      -0.043\n",
      "=====================================================================================\n"
     ]
    }
   ],
   "source": [
    "import statsmodels.api as sm\n",
    "log_reg = sm.Logit(ytrain, Xtrain3).fit()\n",
    "print(log_reg.summary())"
   ]
  },
  {
   "cell_type": "markdown",
   "id": "b6ee2c96",
   "metadata": {},
   "source": [
    "With Factor 1 included, we now have 5 significant \n",
    "or near-significant predictors (to be evaluated as dataset grows).\n",
    "\n",
    "Factor 1 has also been renamed \"Risk\", as variables included in factor relate to volatility and fund management. "
   ]
  },
  {
   "cell_type": "markdown",
   "id": "7acc964e",
   "metadata": {},
   "source": [
    "### Evaluate Model "
   ]
  },
  {
   "cell_type": "code",
   "execution_count": 106,
   "id": "a4356545",
   "metadata": {},
   "outputs": [
    {
     "name": "stdout",
     "output_type": "stream",
     "text": [
      "\u001b[1mX_var samples : \u001b[0m [[67.63 27.4  15.4  15.    1.42]\n",
      " [16.9   3.9   1.4  -3.17  1.71]\n",
      " [51.33 34.8  15.1   2.7   1.97]\n",
      " [ 0.78 15.1   5.1  34.21  2.45]\n",
      " [73.84 31.   13.5   6.21  1.31]]\n",
      "\u001b[1my_var samples : \u001b[0m [1 0 1 1 0]\n"
     ]
    }
   ],
   "source": [
    "#Split data as arrays\n",
    "X_var = np.asarray(Xtrain3[['Market_Cap','ROE', 'ROA', 'Rev_Growth', 'Factor1']]) # dropped Net Prof Marg\n",
    "y_var = np.asarray(ytrain['Median_Recommendation'])\n",
    "\n",
    "from termcolor import colored as cl # text customization\n",
    "print(cl('X_var samples : ', attrs = ['bold']), X_var[:5])\n",
    "print(cl('y_var samples : ', attrs = ['bold']), y_var[:5])"
   ]
  },
  {
   "cell_type": "code",
   "execution_count": 107,
   "id": "1a205ec3",
   "metadata": {},
   "outputs": [
    {
     "name": "stdout",
     "output_type": "stream",
     "text": [
      "\u001b[1mX_train samples : \u001b[0m [[ 2.6  21.4   6.8  13.99  2.7 ]\n",
      " [72.63 34.4  18.4  19.    1.96]\n",
      " [ 3.26 10.2   6.8  29.18  0.94]\n",
      " [ 3.76 10.7   7.3  29.68  2.44]\n",
      " [56.34 13.6   5.8  15.1   1.65]]\n",
      "\u001b[1mX_test samples : \u001b[0m [[ 56.04  13.3    5.5   14.8    0.75]\n",
      " [122.11  62.9   20.3   21.87   1.69]\n",
      " [ 62.24  19.5   11.7   21.    19.35]\n",
      " [132.66  40.7   15.1   17.45   2.14]\n",
      " [ 56.33  34.8   15.1    2.7    1.97]]\n",
      "\u001b[1my_train samples : \u001b[0m [0 1 1 1 0 0 0 0 1 0]\n",
      "\u001b[1my_test samples : \u001b[0m [0 0 0 0 1 0 1 0 0 1]\n"
     ]
    }
   ],
   "source": [
    "#Create Test and Training sets \n",
    "X_train, X_test, y_train, y_test = train_test_split(X_var, y_var, test_size = 0.4, random_state = 4)\n",
    "\n",
    "print(cl('X_train samples : ', attrs = ['bold']), X_train[:5])\n",
    "print(cl('X_test samples : ', attrs = ['bold']), X_test[:5])\n",
    "print(cl('y_train samples : ', attrs = ['bold']), y_train[:10])\n",
    "print(cl('y_test samples : ', attrs = ['bold']), y_test[:10])"
   ]
  },
  {
   "cell_type": "code",
   "execution_count": 108,
   "id": "7e7e59ec",
   "metadata": {},
   "outputs": [
    {
     "name": "stdout",
     "output_type": "stream",
     "text": [
      "\u001b[1mLogisticRegression(C=0.1, solver='liblinear')\u001b[0m\n"
     ]
    }
   ],
   "source": [
    "lr = LogisticRegression(C = 0.1, solver = 'liblinear')\n",
    "lr.fit(X_train,y_train)\n",
    "\n",
    "print(cl(lr, attrs = ['bold']))"
   ]
  },
  {
   "cell_type": "code",
   "execution_count": 109,
   "id": "7c7d76fb",
   "metadata": {},
   "outputs": [
    {
     "name": "stdout",
     "output_type": "stream",
     "text": [
      "\u001b[1myhat samples : \u001b[0m [0 0 0 0 0 1 0 0 0 1]\n",
      "\u001b[1myhat_prob samples : \u001b[0m [[0.77201908 0.22798092]\n",
      " [0.98694815 0.01305185]\n",
      " [0.71126358 0.28873642]\n",
      " [0.98238975 0.01761025]\n",
      " [0.81878394 0.18121606]\n",
      " [0.36948228 0.63051772]\n",
      " [0.53999659 0.46000341]\n",
      " [0.98878985 0.01121015]\n",
      " [0.50900696 0.49099304]\n",
      " [0.19258206 0.80741794]]\n"
     ]
    }
   ],
   "source": [
    "#Make predictions\n",
    "yhat = lr.predict(X_test)\n",
    "yhat_prob = lr.predict_proba(X_test)\n",
    "\n",
    "print(cl('yhat samples : ', attrs = ['bold']), yhat[:10])\n",
    "print(cl('yhat_prob samples : ', attrs = ['bold']), yhat_prob[:10])"
   ]
  },
  {
   "cell_type": "markdown",
   "id": "c6331783",
   "metadata": {},
   "source": [
    "### Evaluate Model Predictions"
   ]
  },
  {
   "cell_type": "code",
   "execution_count": 110,
   "id": "48cd87bc",
   "metadata": {},
   "outputs": [
    {
     "name": "stdout",
     "output_type": "stream",
     "text": [
      "\u001b[1mPrecision Score of our model is 0.7\u001b[0m\n"
     ]
    }
   ],
   "source": [
    "#Overall Model evaluation via Log loss\n",
    "from sklearn.metrics import precision_score # evaluation metric\n",
    "print(cl('Precision Score of our model is {}'.format(precision_score(y_test, yhat).round(2)), attrs = ['bold']))\n"
   ]
  },
  {
   "cell_type": "code",
   "execution_count": 113,
   "id": "45701535",
   "metadata": {},
   "outputs": [
    {
     "name": "stdout",
     "output_type": "stream",
     "text": [
      "Accuracy of logistic regression classifier on test set: 0.74\n"
     ]
    }
   ],
   "source": [
    "y_pred = lr.predict(X_test)\n",
    "print('Accuracy of logistic regression classifier on test set: {:.2f}'.format(lr.score(X_test, y_test)))"
   ]
  },
  {
   "cell_type": "code",
   "execution_count": 148,
   "id": "93ab9013",
   "metadata": {},
   "outputs": [
    {
     "name": "stdout",
     "output_type": "stream",
     "text": [
      "[[24  3]\n",
      " [ 8  7]]\n"
     ]
    },
    {
     "data": {
      "image/png": "[encoded data removed]",
      "text/plain": [
       "<Figure size 576x576 with 1 Axes>"
      ]
     },
     "metadata": {},
     "output_type": "display_data"
    }
   ],
   "source": [
    "from sklearn.metrics import confusion_matrix\n",
    "confusion_matrix = confusion_matrix(y_test, y_pred)\n",
    "print(confusion_matrix)\n",
    "fig, ax = plt.subplots(figsize=(8, 8))\n",
    "ax.imshow(confusion_matrix)\n",
    "ax.grid(False)\n",
    "ax.xaxis.set(ticks=(0, 1), ticklabels=('Predicted Holds', 'Predicted Sells'))\n",
    "ax.yaxis.set(ticks=(0, 1), ticklabels=('Actual Holds', 'Actual Sells'))\n",
    "ax.set_ylim(1.5, -0.5)\n",
    "for i in range(2):\n",
    "    for j in range(2):\n",
    "        ax.text(j, i, confusion_matrix[i, j], ha='center', va='center', color='red')\n",
    "plt.show()"
   ]
  },
  {
   "cell_type": "markdown",
   "id": "0ec42ba5",
   "metadata": {},
   "source": [
    "Model fairly accurate given amount of data: 31 correct (24 Hold, 7 Sell) and 11 (3 hold, 8 sell) incorrect interpretations. \n",
    "\n",
    "**True Positive:** 24\n",
    "**True Negative:** 7\n",
    "**False Positive:** 3\n",
    "**False Negative:**  8\n"
   ]
  },
  {
   "cell_type": "code",
   "execution_count": 150,
   "id": "9fe0cd10",
   "metadata": {},
   "outputs": [
    {
     "name": "stdout",
     "output_type": "stream",
     "text": [
      "              precision    recall  f1-score   support\n",
      "\n",
      "           0       0.75      0.89      0.81        27\n",
      "           1       0.70      0.47      0.56        15\n",
      "\n",
      "    accuracy                           0.74        42\n",
      "   macro avg       0.72      0.68      0.69        42\n",
      "weighted avg       0.73      0.74      0.72        42\n",
      "\n"
     ]
    }
   ],
   "source": [
    "from sklearn.metrics import classification_report\n",
    "print(classification_report(y_test, y_pred))"
   ]
  },
  {
   "cell_type": "markdown",
   "id": "51a3d4a8",
   "metadata": {},
   "source": [
    "**Precision:** ratio tp / (tp + fp); \n",
    "ability of the classifier to not label a sample as positive if it is negative \n",
    "\n",
    "**Recall:** ratio tp / (tp + fn);\n",
    "ability of the classifier to find all the positive samples\n",
    "\n",
    "**F-1 Score:** weighted (for recall) mean of precision and recall (0-1)\n",
    "\n",
    "**Support:** # of occurances per class\n",
    "\n",
    "We see the model is better at predicting 'holds' than 'sells'. This is expected provided 2x frequency of 'hold' recommendations. Accuracy for 'holds' was above 80% accuracy, which suggests the model inputs are quality metrics (the logistic regression also suggests this). More input is needed to improve the model accuracy for 'sells,' which is around chance accuracy (50%).   \n"
   ]
  },
  {
   "cell_type": "code",
   "execution_count": 151,
   "id": "d68c6f19",
   "metadata": {},
   "outputs": [
    {
     "data": {
      "image/png": "[encoded data removed]",
      "text/plain": [
       "<Figure size 432x288 with 1 Axes>"
      ]
     },
     "metadata": {},
     "output_type": "display_data"
    }
   ],
   "source": [
    "#ROC Curve\n",
    "\n",
    "from sklearn.metrics import roc_auc_score\n",
    "from sklearn.metrics import roc_curve\n",
    "logit_roc_auc = roc_auc_score(y_test, lr.predict(X_test))\n",
    "fpr, tpr, thresholds = roc_curve(y_test, lr.predict_proba(X_test)[:,1])\n",
    "plt.figure()\n",
    "plt.plot(fpr, tpr, label='Logistic Regression (area = %0.2f)' % logit_roc_auc)\n",
    "plt.plot([0, 1], [0, 1],'r--')\n",
    "plt.xlim([0.0, 1.0])\n",
    "plt.ylim([0.0, 1.05])\n",
    "plt.xlabel('False Positive Rate')\n",
    "plt.ylabel('True Positive Rate')\n",
    "plt.title('Receiver operating characteristic')\n",
    "plt.legend(loc=\"lower right\")\n",
    "plt.savefig('Log_ROC')\n",
    "plt.show()\n",
    "\n",
    "##Far from dotted line is good"
   ]
  },
  {
   "cell_type": "code",
   "execution_count": null,
   "id": "88db77ed",
   "metadata": {},
   "outputs": [],
   "source": []
  }
 ],
 "metadata": {
  "kernelspec": {
   "display_name": "Python 3",
   "language": "python",
   "name": "python3"
  },
  "language_info": {
   "codemirror_mode": {
    "name": "ipython",
    "version": 3
   },
   "file_extension": ".py",
   "mimetype": "text/x-python",
   "name": "python",
   "nbconvert_exporter": "python",
   "pygments_lexer": "ipython3",
   "version": "3.9.5"
  }
 },
 "nbformat": 4,
 "nbformat_minor": 5
}
